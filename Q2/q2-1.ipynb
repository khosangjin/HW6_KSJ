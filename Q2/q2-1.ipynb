{
 "cells": [
  {
   "cell_type": "code",
   "execution_count": null,
   "id": "60812602",
   "metadata": {},
   "outputs": [],
   "source": []
  },
  {
   "cell_type": "code",
   "execution_count": 10,
   "id": "b03b76a6",
   "metadata": {},
   "outputs": [],
   "source": [
    "import random\n",
    "import csv\n",
    "\n",
    "def Randice(iteration):\n",
    "    data = []\n",
    "    for _ in range(iteration):\n",
    "        data.append(random.randint(1, 6))\n",
    "    return data\n",
    "\n",
    "if __name__ == \"__main__\" :\n",
    "\n",
    "    iteration = [100, 1000, 10000, 100000]\n",
    "    data = []\n",
    "\n",
    "    for i in iteration:\n",
    "        temp = Randice(i)\n",
    "        data.append(temp)\n",
    "\n",
    "    f = open('dice.csv', 'w', newline='')\n",
    "    writer = csv.writer(f)\n",
    "    writer.writerows(data)\n",
    "    f.close()"
   ]
  },
  {
   "cell_type": "code",
   "execution_count": null,
   "id": "901dfd84",
   "metadata": {},
   "outputs": [],
   "source": []
  }
 ],
 "metadata": {
  "kernelspec": {
   "display_name": "Python 3 (ipykernel)",
   "language": "python",
   "name": "python3"
  },
  "language_info": {
   "codemirror_mode": {
    "name": "ipython",
    "version": 3
   },
   "file_extension": ".py",
   "mimetype": "text/x-python",
   "name": "python",
   "nbconvert_exporter": "python",
   "pygments_lexer": "ipython3",
   "version": "3.9.13"
  }
 },
 "nbformat": 4,
 "nbformat_minor": 5
}
